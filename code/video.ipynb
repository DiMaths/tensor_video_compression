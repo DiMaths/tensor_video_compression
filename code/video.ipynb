{
 "cells": [
  {
   "cell_type": "markdown",
   "metadata": {},
   "source": [
    "# Preliminaries, requirements, imports, ..."
   ]
  },
  {
   "cell_type": "code",
   "execution_count": 1,
   "metadata": {},
   "outputs": [],
   "source": [
    "import matplotlib.pyplot as plt\n",
    "import json\n",
    "\n",
    "from tqdm.auto import tqdm\n",
    "\n",
    "from video_handler import read_video_as_numpy\n",
    "\n",
    "from decomposition import *\n",
    "from rsvd import *\n",
    "from util import decomposition_results_to_json\n",
    "from visualization import error_time_analysis\n",
    "\n",
    "\n",
    "plt.rcParams['figure.figsize'] = [16,6]\n",
    "plt.rcParams.update({'font.size': 18})"
   ]
  },
  {
   "cell_type": "markdown",
   "metadata": {},
   "source": [
    "# Reading Video "
   ]
  },
  {
   "cell_type": "code",
   "execution_count": 2,
   "metadata": {},
   "outputs": [],
   "source": [
    "n_frames = 60\n",
    "colorful = True\n",
    "file_name = \"lg_test\"\n",
    "input_folder = \"../videos/input\"\n",
    "input_video_path =  input_folder + \"/\" + file_name + \".mp4\"\n",
    "exp_name = f\"{file_name}{n_frames}{'' if colorful else '_gray'}\"\n",
    "fps = 20\n",
    "format_ = \"mp4v\""
   ]
  },
  {
   "cell_type": "code",
   "execution_count": 3,
   "metadata": {},
   "outputs": [
    {
     "data": {
      "application/vnd.jupyter.widget-view+json": {
       "model_id": "0ce426eab0e542e6b1f7846588e10cee",
       "version_major": 2,
       "version_minor": 0
      },
      "text/plain": [
       "Reading first 60 frames from ../videos/input/lg_test.mp4:   0%|          | 0/60 [00:00<?, ?it/s]"
      ]
     },
     "metadata": {},
     "output_type": "display_data"
    },
    {
     "name": "stdout",
     "output_type": "stream",
     "text": [
      "Shape of read tensor = (60, 720, 1280, 3)\n"
     ]
    }
   ],
   "source": [
    "video_tensor = read_video_as_numpy(input_video_path, n_frames, colorful)"
   ]
  },
  {
   "cell_type": "markdown",
   "metadata": {},
   "source": [
    "# Slicing + RSVD "
   ]
  },
  {
   "cell_type": "code",
   "execution_count": 4,
   "metadata": {},
   "outputs": [
    {
     "name": "stdout",
     "output_type": "stream",
     "text": [
      "===== COMPRESSION RATIO = 50 =====\n",
      "Removed previous results from ../videos/output/RSVD/lg_test60_compress_50!!!\n",
      "RSVD slice by slice along 0-th dimension with rank = 9:\n"
     ]
    },
    {
     "data": {
      "application/vnd.jupyter.widget-view+json": {
       "model_id": "7e0d9e99d9cf40b98ee1cd621944b14b",
       "version_major": 2,
       "version_minor": 0
      },
      "text/plain": [
       "RSVD of each slice:   0%|          | 0/60 [00:00<?, ?it/s]"
      ]
     },
     "metadata": {},
     "output_type": "display_data"
    },
    {
     "name": "stdout",
     "output_type": "stream",
     "text": [
      "(Frobenius) || original - reconstructed || / ||original|| =  0.087\n"
     ]
    },
    {
     "data": {
      "application/vnd.jupyter.widget-view+json": {
       "model_id": "31aeb137760344dc94ea7b0046bcb943",
       "version_major": 2,
       "version_minor": 0
      },
      "text/plain": [
       "Writing (1280, 720)-frames\n",
       " into ../videos/output/RSVD/lg_test60_compress_50/RSVD_lg_test60_compress_50_dim_0_…"
      ]
     },
     "metadata": {},
     "output_type": "display_data"
    },
    {
     "name": "stdout",
     "output_type": "stream",
     "text": [
      "----------------------------------------------------------------------------------------------------\n",
      "RSVD slice by slice along 1-th dimension with rank = 1:\n"
     ]
    },
    {
     "data": {
      "application/vnd.jupyter.widget-view+json": {
       "model_id": "c7737321caff44cfbb4f0362f57d083a",
       "version_major": 2,
       "version_minor": 0
      },
      "text/plain": [
       "RSVD of each slice:   0%|          | 0/720 [00:00<?, ?it/s]"
      ]
     },
     "metadata": {},
     "output_type": "display_data"
    },
    {
     "name": "stdout",
     "output_type": "stream",
     "text": [
      "(Frobenius) || original - reconstructed || / ||original|| =  0.009\n"
     ]
    },
    {
     "data": {
      "application/vnd.jupyter.widget-view+json": {
       "model_id": "7d139232a3b84376a44bd6b4074357d0",
       "version_major": 2,
       "version_minor": 0
      },
      "text/plain": [
       "Writing (1280, 720)-frames\n",
       " into ../videos/output/RSVD/lg_test60_compress_50/RSVD_lg_test60_compress_50_dim_1_…"
      ]
     },
     "metadata": {},
     "output_type": "display_data"
    },
    {
     "name": "stdout",
     "output_type": "stream",
     "text": [
      "----------------------------------------------------------------------------------------------------\n",
      "RSVD slice by slice along 2-th dimension with rank = 1:\n"
     ]
    },
    {
     "data": {
      "application/vnd.jupyter.widget-view+json": {
       "model_id": "0aec83d0de52425abea3e5fb66c36b99",
       "version_major": 2,
       "version_minor": 0
      },
      "text/plain": [
       "RSVD of each slice:   0%|          | 0/1280 [00:00<?, ?it/s]"
      ]
     },
     "metadata": {},
     "output_type": "display_data"
    },
    {
     "name": "stdout",
     "output_type": "stream",
     "text": [
      "(Frobenius) || original - reconstructed || / ||original|| =  0.010\n"
     ]
    },
    {
     "data": {
      "application/vnd.jupyter.widget-view+json": {
       "model_id": "a2e4b83f1abc45eb83b0a1034bdacf06",
       "version_major": 2,
       "version_minor": 0
      },
      "text/plain": [
       "Writing (1280, 720)-frames\n",
       " into ../videos/output/RSVD/lg_test60_compress_50/RSVD_lg_test60_compress_50_dim_2_…"
      ]
     },
     "metadata": {},
     "output_type": "display_data"
    },
    {
     "name": "stdout",
     "output_type": "stream",
     "text": [
      "----------------------------------------------------------------------------------------------------\n",
      "===== COMPRESSION RATIO = 25 =====\n",
      "Removed previous results from ../videos/output/RSVD/lg_test60_compress_25!!!\n",
      "RSVD slice by slice along 0-th dimension with rank = 18:\n"
     ]
    },
    {
     "data": {
      "application/vnd.jupyter.widget-view+json": {
       "model_id": "357e9c5cb5bd40f29dc2dc0891f01e89",
       "version_major": 2,
       "version_minor": 0
      },
      "text/plain": [
       "RSVD of each slice:   0%|          | 0/60 [00:00<?, ?it/s]"
      ]
     },
     "metadata": {},
     "output_type": "display_data"
    },
    {
     "name": "stdout",
     "output_type": "stream",
     "text": [
      "(Frobenius) || original - reconstructed || / ||original|| =  0.049\n"
     ]
    },
    {
     "data": {
      "application/vnd.jupyter.widget-view+json": {
       "model_id": "c59d0c832cb74079896f601a44cde2a5",
       "version_major": 2,
       "version_minor": 0
      },
      "text/plain": [
       "Writing (1280, 720)-frames\n",
       " into ../videos/output/RSVD/lg_test60_compress_25/RSVD_lg_test60_compress_25_dim_0_…"
      ]
     },
     "metadata": {},
     "output_type": "display_data"
    },
    {
     "name": "stdout",
     "output_type": "stream",
     "text": [
      "----------------------------------------------------------------------------------------------------\n",
      "RSVD slice by slice along 1-th dimension with rank = 2:\n"
     ]
    },
    {
     "data": {
      "application/vnd.jupyter.widget-view+json": {
       "model_id": "1cd03c0cb57347e2ab95e5770643d1cd",
       "version_major": 2,
       "version_minor": 0
      },
      "text/plain": [
       "RSVD of each slice:   0%|          | 0/720 [00:00<?, ?it/s]"
      ]
     },
     "metadata": {},
     "output_type": "display_data"
    },
    {
     "name": "stdout",
     "output_type": "stream",
     "text": [
      "(Frobenius) || original - reconstructed || / ||original|| =  0.007\n"
     ]
    },
    {
     "data": {
      "application/vnd.jupyter.widget-view+json": {
       "model_id": "1f7f5974a99b4684b7deda3f1500c801",
       "version_major": 2,
       "version_minor": 0
      },
      "text/plain": [
       "Writing (1280, 720)-frames\n",
       " into ../videos/output/RSVD/lg_test60_compress_25/RSVD_lg_test60_compress_25_dim_1_…"
      ]
     },
     "metadata": {},
     "output_type": "display_data"
    },
    {
     "name": "stdout",
     "output_type": "stream",
     "text": [
      "----------------------------------------------------------------------------------------------------\n",
      "RSVD slice by slice along 2-th dimension with rank = 2:\n"
     ]
    },
    {
     "data": {
      "application/vnd.jupyter.widget-view+json": {
       "model_id": "2bc5206e49514ea8be6a26655aa09f4e",
       "version_major": 2,
       "version_minor": 0
      },
      "text/plain": [
       "RSVD of each slice:   0%|          | 0/1280 [00:00<?, ?it/s]"
      ]
     },
     "metadata": {},
     "output_type": "display_data"
    },
    {
     "name": "stdout",
     "output_type": "stream",
     "text": [
      "(Frobenius) || original - reconstructed || / ||original|| =  0.007\n"
     ]
    },
    {
     "data": {
      "application/vnd.jupyter.widget-view+json": {
       "model_id": "fff1be4372f143ddba885aa662f3bac2",
       "version_major": 2,
       "version_minor": 0
      },
      "text/plain": [
       "Writing (1280, 720)-frames\n",
       " into ../videos/output/RSVD/lg_test60_compress_25/RSVD_lg_test60_compress_25_dim_2_…"
      ]
     },
     "metadata": {},
     "output_type": "display_data"
    },
    {
     "name": "stdout",
     "output_type": "stream",
     "text": [
      "----------------------------------------------------------------------------------------------------\n",
      "===== COMPRESSION RATIO = 10 =====\n",
      "Removed previous results from ../videos/output/RSVD/lg_test60_compress_10!!!\n",
      "RSVD slice by slice along 0-th dimension with rank = 46:\n"
     ]
    },
    {
     "data": {
      "application/vnd.jupyter.widget-view+json": {
       "model_id": "af4786f98b4f4f158bcdf32dda9077b7",
       "version_major": 2,
       "version_minor": 0
      },
      "text/plain": [
       "RSVD of each slice:   0%|          | 0/60 [00:00<?, ?it/s]"
      ]
     },
     "metadata": {},
     "output_type": "display_data"
    },
    {
     "name": "stdout",
     "output_type": "stream",
     "text": [
      "(Frobenius) || original - reconstructed || / ||original|| =  0.019\n"
     ]
    },
    {
     "data": {
      "application/vnd.jupyter.widget-view+json": {
       "model_id": "de02a1a3ae4a4a47ab392c6e8f443862",
       "version_major": 2,
       "version_minor": 0
      },
      "text/plain": [
       "Writing (1280, 720)-frames\n",
       " into ../videos/output/RSVD/lg_test60_compress_10/RSVD_lg_test60_compress_10_dim_0_…"
      ]
     },
     "metadata": {},
     "output_type": "display_data"
    },
    {
     "name": "stdout",
     "output_type": "stream",
     "text": [
      "----------------------------------------------------------------------------------------------------\n",
      "RSVD slice by slice along 1-th dimension with rank = 5:\n"
     ]
    },
    {
     "data": {
      "application/vnd.jupyter.widget-view+json": {
       "model_id": "1137bd038ba74f2b9de86819b929b2dc",
       "version_major": 2,
       "version_minor": 0
      },
      "text/plain": [
       "RSVD of each slice:   0%|          | 0/720 [00:00<?, ?it/s]"
      ]
     },
     "metadata": {},
     "output_type": "display_data"
    },
    {
     "name": "stdout",
     "output_type": "stream",
     "text": [
      "(Frobenius) || original - reconstructed || / ||original|| =  0.004\n"
     ]
    },
    {
     "data": {
      "application/vnd.jupyter.widget-view+json": {
       "model_id": "cb3a7466f71a4ffa82321a2f481edc55",
       "version_major": 2,
       "version_minor": 0
      },
      "text/plain": [
       "Writing (1280, 720)-frames\n",
       " into ../videos/output/RSVD/lg_test60_compress_10/RSVD_lg_test60_compress_10_dim_1_…"
      ]
     },
     "metadata": {},
     "output_type": "display_data"
    },
    {
     "name": "stdout",
     "output_type": "stream",
     "text": [
      "----------------------------------------------------------------------------------------------------\n",
      "RSVD slice by slice along 2-th dimension with rank = 5:\n"
     ]
    },
    {
     "data": {
      "application/vnd.jupyter.widget-view+json": {
       "model_id": "8138ec782e954a0cb24629cfb8e0842c",
       "version_major": 2,
       "version_minor": 0
      },
      "text/plain": [
       "RSVD of each slice:   0%|          | 0/1280 [00:00<?, ?it/s]"
      ]
     },
     "metadata": {},
     "output_type": "display_data"
    },
    {
     "name": "stdout",
     "output_type": "stream",
     "text": [
      "(Frobenius) || original - reconstructed || / ||original|| =  0.004\n"
     ]
    },
    {
     "data": {
      "application/vnd.jupyter.widget-view+json": {
       "model_id": "51cc14391de740c38e0661be96c6ea67",
       "version_major": 2,
       "version_minor": 0
      },
      "text/plain": [
       "Writing (1280, 720)-frames\n",
       " into ../videos/output/RSVD/lg_test60_compress_10/RSVD_lg_test60_compress_10_dim_2_…"
      ]
     },
     "metadata": {},
     "output_type": "display_data"
    },
    {
     "name": "stdout",
     "output_type": "stream",
     "text": [
      "----------------------------------------------------------------------------------------------------\n",
      "===== COMPRESSION RATIO = 5 =====\n",
      "Removed previous results from ../videos/output/RSVD/lg_test60_compress_5!!!\n",
      "RSVD slice by slice along 0-th dimension with rank = 92:\n"
     ]
    },
    {
     "data": {
      "application/vnd.jupyter.widget-view+json": {
       "model_id": "a700950c662d4879bda81e661719a933",
       "version_major": 2,
       "version_minor": 0
      },
      "text/plain": [
       "RSVD of each slice:   0%|          | 0/60 [00:00<?, ?it/s]"
      ]
     },
     "metadata": {},
     "output_type": "display_data"
    },
    {
     "name": "stdout",
     "output_type": "stream",
     "text": [
      "(Frobenius) || original - reconstructed || / ||original|| =  0.009\n"
     ]
    },
    {
     "data": {
      "application/vnd.jupyter.widget-view+json": {
       "model_id": "d73f81c8bacb4148a97516704c9e54b4",
       "version_major": 2,
       "version_minor": 0
      },
      "text/plain": [
       "Writing (1280, 720)-frames\n",
       " into ../videos/output/RSVD/lg_test60_compress_5/RSVD_lg_test60_compress_5_dim_0_ra…"
      ]
     },
     "metadata": {},
     "output_type": "display_data"
    },
    {
     "name": "stdout",
     "output_type": "stream",
     "text": [
      "----------------------------------------------------------------------------------------------------\n",
      "RSVD slice by slice along 1-th dimension with rank = 11:\n"
     ]
    },
    {
     "data": {
      "application/vnd.jupyter.widget-view+json": {
       "model_id": "7616304ae04c45a2a43bed8cb01b1c75",
       "version_major": 2,
       "version_minor": 0
      },
      "text/plain": [
       "RSVD of each slice:   0%|          | 0/720 [00:00<?, ?it/s]"
      ]
     },
     "metadata": {},
     "output_type": "display_data"
    },
    {
     "name": "stdout",
     "output_type": "stream",
     "text": [
      "(Frobenius) || original - reconstructed || / ||original|| =  0.002\n"
     ]
    },
    {
     "data": {
      "application/vnd.jupyter.widget-view+json": {
       "model_id": "5e91bf5cc89d4053b3b182fec30924f3",
       "version_major": 2,
       "version_minor": 0
      },
      "text/plain": [
       "Writing (1280, 720)-frames\n",
       " into ../videos/output/RSVD/lg_test60_compress_5/RSVD_lg_test60_compress_5_dim_1_ra…"
      ]
     },
     "metadata": {},
     "output_type": "display_data"
    },
    {
     "name": "stdout",
     "output_type": "stream",
     "text": [
      "----------------------------------------------------------------------------------------------------\n",
      "RSVD slice by slice along 2-th dimension with rank = 11:\n"
     ]
    },
    {
     "data": {
      "application/vnd.jupyter.widget-view+json": {
       "model_id": "ed2b2db5ec0f43909f432bbf5cda8df4",
       "version_major": 2,
       "version_minor": 0
      },
      "text/plain": [
       "RSVD of each slice:   0%|          | 0/1280 [00:00<?, ?it/s]"
      ]
     },
     "metadata": {},
     "output_type": "display_data"
    },
    {
     "name": "stdout",
     "output_type": "stream",
     "text": [
      "(Frobenius) || original - reconstructed || / ||original|| =  0.002\n"
     ]
    },
    {
     "data": {
      "application/vnd.jupyter.widget-view+json": {
       "model_id": "0161cdfd09ca4188bfc67e80ede49f08",
       "version_major": 2,
       "version_minor": 0
      },
      "text/plain": [
       "Writing (1280, 720)-frames\n",
       " into ../videos/output/RSVD/lg_test60_compress_5/RSVD_lg_test60_compress_5_dim_2_ra…"
      ]
     },
     "metadata": {},
     "output_type": "display_data"
    },
    {
     "name": "stdout",
     "output_type": "stream",
     "text": [
      "----------------------------------------------------------------------------------------------------\n",
      "===== COMPRESSION RATIO = 3 =====\n",
      "Removed previous results from ../videos/output/RSVD/lg_test60_compress_3!!!\n",
      "RSVD slice by slice along 0-th dimension with rank = 153:\n"
     ]
    },
    {
     "data": {
      "application/vnd.jupyter.widget-view+json": {
       "model_id": "eddfca582a9849fd8565ba5101662f9e",
       "version_major": 2,
       "version_minor": 0
      },
      "text/plain": [
       "RSVD of each slice:   0%|          | 0/60 [00:00<?, ?it/s]"
      ]
     },
     "metadata": {},
     "output_type": "display_data"
    },
    {
     "name": "stdout",
     "output_type": "stream",
     "text": [
      "(Frobenius) || original - reconstructed || / ||original|| =  0.005\n"
     ]
    },
    {
     "data": {
      "application/vnd.jupyter.widget-view+json": {
       "model_id": "7162013713784056b37fe1ea55e67beb",
       "version_major": 2,
       "version_minor": 0
      },
      "text/plain": [
       "Writing (1280, 720)-frames\n",
       " into ../videos/output/RSVD/lg_test60_compress_3/RSVD_lg_test60_compress_3_dim_0_ra…"
      ]
     },
     "metadata": {},
     "output_type": "display_data"
    },
    {
     "name": "stdout",
     "output_type": "stream",
     "text": [
      "----------------------------------------------------------------------------------------------------\n",
      "RSVD slice by slice along 1-th dimension with rank = 19:\n"
     ]
    },
    {
     "data": {
      "application/vnd.jupyter.widget-view+json": {
       "model_id": "2ee00c3de4c644d993aa25be12a214fd",
       "version_major": 2,
       "version_minor": 0
      },
      "text/plain": [
       "RSVD of each slice:   0%|          | 0/720 [00:00<?, ?it/s]"
      ]
     },
     "metadata": {},
     "output_type": "display_data"
    },
    {
     "name": "stdout",
     "output_type": "stream",
     "text": [
      "(Frobenius) || original - reconstructed || / ||original|| =  0.001\n"
     ]
    },
    {
     "data": {
      "application/vnd.jupyter.widget-view+json": {
       "model_id": "72bf6b375ad04395bfd076d49bc5bbea",
       "version_major": 2,
       "version_minor": 0
      },
      "text/plain": [
       "Writing (1280, 720)-frames\n",
       " into ../videos/output/RSVD/lg_test60_compress_3/RSVD_lg_test60_compress_3_dim_1_ra…"
      ]
     },
     "metadata": {},
     "output_type": "display_data"
    },
    {
     "name": "stdout",
     "output_type": "stream",
     "text": [
      "----------------------------------------------------------------------------------------------------\n",
      "RSVD slice by slice along 2-th dimension with rank = 18:\n"
     ]
    },
    {
     "data": {
      "application/vnd.jupyter.widget-view+json": {
       "model_id": "c0d1b4b27c2d4cb2b2a9ba9fc27e16e8",
       "version_major": 2,
       "version_minor": 0
      },
      "text/plain": [
       "RSVD of each slice:   0%|          | 0/1280 [00:00<?, ?it/s]"
      ]
     },
     "metadata": {},
     "output_type": "display_data"
    },
    {
     "name": "stdout",
     "output_type": "stream",
     "text": [
      "(Frobenius) || original - reconstructed || / ||original|| =  0.001\n"
     ]
    },
    {
     "data": {
      "application/vnd.jupyter.widget-view+json": {
       "model_id": "74abb77ba35f43d2b2b32f763eca82b3",
       "version_major": 2,
       "version_minor": 0
      },
      "text/plain": [
       "Writing (1280, 720)-frames\n",
       " into ../videos/output/RSVD/lg_test60_compress_3/RSVD_lg_test60_compress_3_dim_2_ra…"
      ]
     },
     "metadata": {},
     "output_type": "display_data"
    },
    {
     "name": "stdout",
     "output_type": "stream",
     "text": [
      "----------------------------------------------------------------------------------------------------\n",
      "Saved to ../jsons/RSVD_lg_test60.json\n"
     ]
    }
   ],
   "source": [
    "results_rsvd = dict()\n",
    "for compress_ratio in [50, 25, 10, 5, 3]:\n",
    "    print(f\"===== COMPRESSION RATIO = {compress_ratio} =====\")\n",
    "    results_rsvd[compress_ratio] = all_dim_RSVD(exp_name=exp_name+f\"_compress_{compress_ratio}\",\n",
    "                                            video_tensor=video_tensor,\n",
    "                                            desired_compress_ratio=compress_ratio,\n",
    "                                            format_=format_,\n",
    "                                            fps=fps,\n",
    "                                            colorful=colorful,\n",
    "                                            delete_prev=True,\n",
    "                                            save=True)\n",
    "decomposition_results_to_json(exp_name, \"RSVD\", results_rsvd)"
   ]
  },
  {
   "cell_type": "markdown",
   "metadata": {},
   "source": [
    "# Tensor methods"
   ]
  },
  {
   "cell_type": "markdown",
   "metadata": {},
   "source": [
    "## Tensorly Tucker"
   ]
  },
  {
   "cell_type": "code",
   "execution_count": 5,
   "metadata": {},
   "outputs": [
    {
     "name": "stdout",
     "output_type": "stream",
     "text": [
      "===== COMPRESSION RATIO = 50000 =====\n",
      "Removed previous results from ../videos/output/Tucker/lg_test60_compress_50000!!!\n",
      "Suggested ranks for desired compression ratio 50000 is [1, 1, 1, 2], exact comression ratio is  80216.634\n",
      "Tucker took  1.65 seconds.\n",
      "Converged in 4 iterations with relative error of  0.357\n"
     ]
    },
    {
     "data": {
      "application/vnd.jupyter.widget-view+json": {
       "model_id": "c909218d6da3445ebdab440af499bf44",
       "version_major": 2,
       "version_minor": 0
      },
      "text/plain": [
       "Writing (1280, 720)-frames\n",
       " into ../videos/output/Tucker/lg_test60_compress_50000/Tucker_lg_test60_compress_50…"
      ]
     },
     "metadata": {},
     "output_type": "display_data"
    },
    {
     "name": "stdout",
     "output_type": "stream",
     "text": [
      "Total:  3.63 seconds.\n",
      "===== COMPRESSION RATIO = 25000 =====\n",
      "Removed previous results from ../videos/output/Tucker/lg_test60_compress_25000!!!\n",
      "Suggested ranks for desired compression ratio 25000 is [2, 3, 3, 3], exact comression ratio is  26829.694\n",
      "Tucker took  2.88 seconds.\n",
      "Converged in 6 iterations with relative error of  0.197\n"
     ]
    },
    {
     "data": {
      "application/vnd.jupyter.widget-view+json": {
       "model_id": "fedb425cb76643c6849c02d82303c2a5",
       "version_major": 2,
       "version_minor": 0
      },
      "text/plain": [
       "Writing (1280, 720)-frames\n",
       " into ../videos/output/Tucker/lg_test60_compress_25000/Tucker_lg_test60_compress_25…"
      ]
     },
     "metadata": {},
     "output_type": "display_data"
    },
    {
     "name": "stdout",
     "output_type": "stream",
     "text": [
      "Total:  5.25 seconds.\n",
      "===== COMPRESSION RATIO = 10000 =====\n",
      "Removed previous results from ../videos/output/Tucker/lg_test60_compress_10000!!!\n",
      "Suggested ranks for desired compression ratio 10000 is [2, 8, 8, 3], exact comression ratio is  10045.903\n",
      "Tucker took  5.17 seconds.\n",
      "Converged in 11 iterations with relative error of  0.102\n"
     ]
    },
    {
     "data": {
      "application/vnd.jupyter.widget-view+json": {
       "model_id": "9654a9e374e543c9bb339e5e43bbd408",
       "version_major": 2,
       "version_minor": 0
      },
      "text/plain": [
       "Writing (1280, 720)-frames\n",
       " into ../videos/output/Tucker/lg_test60_compress_10000/Tucker_lg_test60_compress_10…"
      ]
     },
     "metadata": {},
     "output_type": "display_data"
    },
    {
     "name": "stdout",
     "output_type": "stream",
     "text": [
      "Total:  7.55 seconds.\n",
      "===== COMPRESSION RATIO = 5000 =====\n",
      "Removed previous results from ../videos/output/Tucker/lg_test60_compress_5000!!!\n",
      "Suggested ranks for desired compression ratio 5000 is [3, 15, 15, 3], exact comression ratio is  5149.562\n",
      "Tucker took  3.84 seconds.\n",
      "Converged in 7 iterations with relative error of  0.057\n"
     ]
    },
    {
     "data": {
      "application/vnd.jupyter.widget-view+json": {
       "model_id": "beddf857c43841a4adf13fb50c8ee1aa",
       "version_major": 2,
       "version_minor": 0
      },
      "text/plain": [
       "Writing (1280, 720)-frames\n",
       " into ../videos/output/Tucker/lg_test60_compress_5000/Tucker_lg_test60_compress_500…"
      ]
     },
     "metadata": {},
     "output_type": "display_data"
    },
    {
     "name": "stdout",
     "output_type": "stream",
     "text": [
      "Total:  6.27 seconds.\n",
      "===== COMPRESSION RATIO = 2500 =====\n",
      "Removed previous results from ../videos/output/Tucker/lg_test60_compress_2500!!!\n",
      "Suggested ranks for desired compression ratio 2500 is [4, 28, 28, 3], exact comression ratio is  2526.585\n",
      "Tucker took  4.58 seconds.\n",
      "Converged in 6 iterations with relative error of  0.032\n"
     ]
    },
    {
     "data": {
      "application/vnd.jupyter.widget-view+json": {
       "model_id": "2c8e6070a4b1402f85cbcab102620987",
       "version_major": 2,
       "version_minor": 0
      },
      "text/plain": [
       "Writing (1280, 720)-frames\n",
       " into ../videos/output/Tucker/lg_test60_compress_2500/Tucker_lg_test60_compress_250…"
      ]
     },
     "metadata": {},
     "output_type": "display_data"
    },
    {
     "name": "stdout",
     "output_type": "stream",
     "text": [
      "Total:  7.02 seconds.\n",
      "===== COMPRESSION RATIO = 1000 =====\n",
      "Removed previous results from ../videos/output/Tucker/lg_test60_compress_1000!!!\n",
      "Suggested ranks for desired compression ratio 1000 is [6, 55, 55, 3], exact comression ratio is  1006.486\n",
      "Tucker took  10.80 seconds.\n",
      "Converged in 7 iterations with relative error of  0.017\n"
     ]
    },
    {
     "data": {
      "application/vnd.jupyter.widget-view+json": {
       "model_id": "cdc063548a5b4dfca791c75e8492fa1a",
       "version_major": 2,
       "version_minor": 0
      },
      "text/plain": [
       "Writing (1280, 720)-frames\n",
       " into ../videos/output/Tucker/lg_test60_compress_1000/Tucker_lg_test60_compress_100…"
      ]
     },
     "metadata": {},
     "output_type": "display_data"
    },
    {
     "name": "stdout",
     "output_type": "stream",
     "text": [
      "Total:  13.22 seconds.\n",
      "===== COMPRESSION RATIO = 500 =====\n",
      "Removed previous results from ../videos/output/Tucker/lg_test60_compress_500!!!\n",
      "Suggested ranks for desired compression ratio 500 is [7, 86, 87, 3], exact comression ratio is  501.428\n",
      "Tucker took  12.05 seconds.\n",
      "Converged in 5 iterations with relative error of  0.011\n"
     ]
    },
    {
     "data": {
      "application/vnd.jupyter.widget-view+json": {
       "model_id": "5e9582d54e004cc6a0369274a4deb800",
       "version_major": 2,
       "version_minor": 0
      },
      "text/plain": [
       "Writing (1280, 720)-frames\n",
       " into ../videos/output/Tucker/lg_test60_compress_500/Tucker_lg_test60_compress_500_…"
      ]
     },
     "metadata": {},
     "output_type": "display_data"
    },
    {
     "name": "stdout",
     "output_type": "stream",
     "text": [
      "Total:  14.67 seconds.\n",
      "===== COMPRESSION RATIO = 250 =====\n",
      "Removed previous results from ../videos/output/Tucker/lg_test60_compress_250!!!\n",
      "Suggested ranks for desired compression ratio 250 is [9, 114, 133, 3], exact comression ratio is  250.494\n",
      "Tucker took  17.39 seconds.\n",
      "Converged in 4 iterations with relative error of  0.008\n"
     ]
    },
    {
     "data": {
      "application/vnd.jupyter.widget-view+json": {
       "model_id": "5f6ad594ef2747f1852c9e0f4dc8fc85",
       "version_major": 2,
       "version_minor": 0
      },
      "text/plain": [
       "Writing (1280, 720)-frames\n",
       " into ../videos/output/Tucker/lg_test60_compress_250/Tucker_lg_test60_compress_250_…"
      ]
     },
     "metadata": {},
     "output_type": "display_data"
    },
    {
     "name": "stdout",
     "output_type": "stream",
     "text": [
      "Total:  20.30 seconds.\n",
      "===== COMPRESSION RATIO = 100 =====\n",
      "Removed previous results from ../videos/output/Tucker/lg_test60_compress_100!!!\n",
      "Suggested ranks for desired compression ratio 100 is [12, 155, 225, 3], exact comression ratio is  100.184\n",
      "Tucker took  30.34 seconds.\n",
      "Converged in 4 iterations with relative error of  0.006\n"
     ]
    },
    {
     "data": {
      "application/vnd.jupyter.widget-view+json": {
       "model_id": "d4debe965b724f71b90f751c660b6f04",
       "version_major": 2,
       "version_minor": 0
      },
      "text/plain": [
       "Writing (1280, 720)-frames\n",
       " into ../videos/output/Tucker/lg_test60_compress_100/Tucker_lg_test60_compress_100_…"
      ]
     },
     "metadata": {},
     "output_type": "display_data"
    },
    {
     "name": "stdout",
     "output_type": "stream",
     "text": [
      "Total:  33.41 seconds.\n",
      "===== COMPRESSION RATIO = 50 =====\n",
      "Removed previous results from ../videos/output/Tucker/lg_test60_compress_50!!!\n",
      "Suggested ranks for desired compression ratio 50 is [16, 195, 298, 3], exact comression ratio is  50.086\n",
      "Tucker took  49.19 seconds.\n",
      "Converged in 4 iterations with relative error of  0.005\n"
     ]
    },
    {
     "data": {
      "application/vnd.jupyter.widget-view+json": {
       "model_id": "5382c28f7c6b42bdb60412fca13748cb",
       "version_major": 2,
       "version_minor": 0
      },
      "text/plain": [
       "Writing (1280, 720)-frames\n",
       " into ../videos/output/Tucker/lg_test60_compress_50/Tucker_lg_test60_compress_50_ra…"
      ]
     },
     "metadata": {},
     "output_type": "display_data"
    },
    {
     "name": "stdout",
     "output_type": "stream",
     "text": [
      "Total:  52.23 seconds.\n",
      "===== COMPRESSION RATIO = 25 =====\n",
      "Removed previous results from ../videos/output/Tucker/lg_test60_compress_25!!!\n",
      "Suggested ranks for desired compression ratio 25 is [20, 246, 402, 3], exact comression ratio is  25.034\n",
      "Tucker took  69.41 seconds.\n",
      "Converged in 4 iterations with relative error of  0.004\n"
     ]
    },
    {
     "data": {
      "application/vnd.jupyter.widget-view+json": {
       "model_id": "15e6b67695f9432e9d0db1c29fba03c6",
       "version_major": 2,
       "version_minor": 0
      },
      "text/plain": [
       "Writing (1280, 720)-frames\n",
       " into ../videos/output/Tucker/lg_test60_compress_25/Tucker_lg_test60_compress_25_ra…"
      ]
     },
     "metadata": {},
     "output_type": "display_data"
    },
    {
     "name": "stdout",
     "output_type": "stream",
     "text": [
      "Total:  72.80 seconds.\n",
      "===== COMPRESSION RATIO = 10 =====\n",
      "Removed previous results from ../videos/output/Tucker/lg_test60_compress_10!!!\n",
      "Suggested ranks for desired compression ratio 10 is [27, 334, 576, 3], exact comression ratio is  10.016\n",
      "Tucker took  89.19 seconds.\n",
      "Converged in 3 iterations with relative error of  0.002\n"
     ]
    },
    {
     "data": {
      "application/vnd.jupyter.widget-view+json": {
       "model_id": "5a98e838295c44e6b0842c12bcdd14bc",
       "version_major": 2,
       "version_minor": 0
      },
      "text/plain": [
       "Writing (1280, 720)-frames\n",
       " into ../videos/output/Tucker/lg_test60_compress_10/Tucker_lg_test60_compress_10_ra…"
      ]
     },
     "metadata": {},
     "output_type": "display_data"
    },
    {
     "name": "stdout",
     "output_type": "stream",
     "text": [
      "Total:  93.55 seconds.\n",
      "===== COMPRESSION RATIO = 5 =====\n",
      "Removed previous results from ../videos/output/Tucker/lg_test60_compress_5!!!\n",
      "Suggested ranks for desired compression ratio 5 is [35, 421, 722, 3], exact comression ratio is  5.005\n",
      "Tucker took  136.59 seconds.\n",
      "Converged in 3 iterations with relative error of  0.002\n"
     ]
    },
    {
     "data": {
      "application/vnd.jupyter.widget-view+json": {
       "model_id": "875be218a45d479b8f00a40d262a34a8",
       "version_major": 2,
       "version_minor": 0
      },
      "text/plain": [
       "Writing (1280, 720)-frames\n",
       " into ../videos/output/Tucker/lg_test60_compress_5/Tucker_lg_test60_compress_5_rank…"
      ]
     },
     "metadata": {},
     "output_type": "display_data"
    },
    {
     "name": "stdout",
     "output_type": "stream",
     "text": [
      "Total:  140.48 seconds.\n",
      "===== COMPRESSION RATIO = 3 =====\n",
      "Removed previous results from ../videos/output/Tucker/lg_test60_compress_3!!!\n",
      "Suggested ranks for desired compression ratio 3 is [41, 499, 876, 3], exact comression ratio is  3.003\n",
      "Tucker took  187.34 seconds.\n",
      "Converged in 3 iterations with relative error of  0.001\n"
     ]
    },
    {
     "data": {
      "application/vnd.jupyter.widget-view+json": {
       "model_id": "061ccaa47b0344b2b214e4195840d09d",
       "version_major": 2,
       "version_minor": 0
      },
      "text/plain": [
       "Writing (1280, 720)-frames\n",
       " into ../videos/output/Tucker/lg_test60_compress_3/Tucker_lg_test60_compress_3_rank…"
      ]
     },
     "metadata": {},
     "output_type": "display_data"
    },
    {
     "name": "stdout",
     "output_type": "stream",
     "text": [
      "Total:  191.38 seconds.\n",
      "Saved to ../jsons/Tucker_lg_test60.json\n"
     ]
    }
   ],
   "source": [
    "results_tucker = dict()\n",
    "for compress_ratio in [50_000, 25_000, 10_000, 5_000, 2_500, 1_000, 500, 250, 100, 50, 25, 10, 5, 3]:\n",
    "    print(f\"===== COMPRESSION RATIO = {compress_ratio} =====\")\n",
    "    results_tucker[compress_ratio] = decomposition(exp_name+f\"_compress_{compress_ratio}\", video_tensor,\n",
    "                                                        \"Tucker\", {\"tol\": 1e-6, \"n_iter_max\": 100},\n",
    "                                                        desired_compress_ratio=compress_ratio,\n",
    "                                                        format_=format_,\n",
    "                                                        fps=fps,\n",
    "                                                        colorful=colorful,\n",
    "                                                        delete_prev=True)\n",
    "decomposition_results_to_json(exp_name, \"Tucker\", results_tucker)"
   ]
  },
  {
   "cell_type": "markdown",
   "metadata": {},
   "source": [
    "## Tensorly CP"
   ]
  },
  {
   "cell_type": "code",
   "execution_count": 6,
   "metadata": {
    "scrolled": true
   },
   "outputs": [
    {
     "name": "stdout",
     "output_type": "stream",
     "text": [
      "===== COMPRESSION RATIO = 50000 =====\n",
      "Removed previous results from ../videos/output/CP/lg_test60_compress_50000!!!\n",
      "Suggested rank for desired compression ratio 50000 is 1, exact comression ratio is  80411.052\n",
      "CP took  28.91 seconds.\n",
      "Converged in 35 iterations with relative error of  0.357\n"
     ]
    },
    {
     "data": {
      "application/vnd.jupyter.widget-view+json": {
       "model_id": "5eef93eeef9b4105a425c05a88a19049",
       "version_major": 2,
       "version_minor": 0
      },
      "text/plain": [
       "Writing (1280, 720)-frames\n",
       " into ../videos/output/CP/lg_test60_compress_50000/CP_lg_test60_compress_50000_rank…"
      ]
     },
     "metadata": {},
     "output_type": "display_data"
    },
    {
     "name": "stdout",
     "output_type": "stream",
     "text": [
      "Total:  29.98 seconds.\n",
      "===== COMPRESSION RATIO = 25000 =====\n",
      "Removed previous results from ../videos/output/CP/lg_test60_compress_25000!!!\n",
      "Suggested rank for desired compression ratio 25000 is 3, exact comression ratio is  26803.684\n",
      "CP took  83.43 seconds.\n",
      "Converged in 100 iterations with relative error of  0.198\n"
     ]
    },
    {
     "data": {
      "application/vnd.jupyter.widget-view+json": {
       "model_id": "4851dbb0e209403b8a6619cc0a6dce42",
       "version_major": 2,
       "version_minor": 0
      },
      "text/plain": [
       "Writing (1280, 720)-frames\n",
       " into ../videos/output/CP/lg_test60_compress_25000/CP_lg_test60_compress_25000_rank…"
      ]
     },
     "metadata": {},
     "output_type": "display_data"
    },
    {
     "name": "stdout",
     "output_type": "stream",
     "text": [
      "Total:  84.53 seconds.\n",
      "===== COMPRESSION RATIO = 10000 =====\n",
      "Removed previous results from ../videos/output/CP/lg_test60_compress_10000!!!\n",
      "Suggested rank for desired compression ratio 10000 is 8, exact comression ratio is  10051.381\n",
      "CP took  96.85 seconds.\n",
      "Converged in 100 iterations with relative error of  0.108\n"
     ]
    },
    {
     "data": {
      "application/vnd.jupyter.widget-view+json": {
       "model_id": "eeaf49fc5537434b8ef9606b6f8d204d",
       "version_major": 2,
       "version_minor": 0
      },
      "text/plain": [
       "Writing (1280, 720)-frames\n",
       " into ../videos/output/CP/lg_test60_compress_10000/CP_lg_test60_compress_10000_rank…"
      ]
     },
     "metadata": {},
     "output_type": "display_data"
    },
    {
     "name": "stdout",
     "output_type": "stream",
     "text": [
      "Total:  98.09 seconds.\n",
      "===== COMPRESSION RATIO = 5000 =====\n",
      "Removed previous results from ../videos/output/CP/lg_test60_compress_5000!!!\n",
      "Suggested rank for desired compression ratio 5000 is 16, exact comression ratio is  5025.691\n",
      "CP took  115.27 seconds.\n",
      "Converged in 100 iterations with relative error of  0.062\n"
     ]
    },
    {
     "data": {
      "application/vnd.jupyter.widget-view+json": {
       "model_id": "2c7b11754c28483bb0975268d50303e7",
       "version_major": 2,
       "version_minor": 0
      },
      "text/plain": [
       "Writing (1280, 720)-frames\n",
       " into ../videos/output/CP/lg_test60_compress_5000/CP_lg_test60_compress_5000_ranks_…"
      ]
     },
     "metadata": {},
     "output_type": "display_data"
    },
    {
     "name": "stdout",
     "output_type": "stream",
     "text": [
      "Total:  116.71 seconds.\n",
      "===== COMPRESSION RATIO = 2500 =====\n",
      "Removed previous results from ../videos/output/CP/lg_test60_compress_2500!!!\n",
      "Suggested rank for desired compression ratio 2500 is 32, exact comression ratio is  2512.845\n",
      "CP took  150.56 seconds.\n",
      "Converged in 100 iterations with relative error of  0.036\n"
     ]
    },
    {
     "data": {
      "application/vnd.jupyter.widget-view+json": {
       "model_id": "4204e0737e02411b97a426de61d98728",
       "version_major": 2,
       "version_minor": 0
      },
      "text/plain": [
       "Writing (1280, 720)-frames\n",
       " into ../videos/output/CP/lg_test60_compress_2500/CP_lg_test60_compress_2500_ranks_…"
      ]
     },
     "metadata": {},
     "output_type": "display_data"
    },
    {
     "name": "stdout",
     "output_type": "stream",
     "text": [
      "Total:  152.51 seconds.\n",
      "===== COMPRESSION RATIO = 1000 =====\n",
      "Removed previous results from ../videos/output/CP/lg_test60_compress_1000!!!\n",
      "Suggested rank for desired compression ratio 1000 is 80, exact comression ratio is  1005.138\n",
      "CP took  256.85 seconds.\n",
      "Converged in 100 iterations with relative error of  0.020\n"
     ]
    },
    {
     "data": {
      "application/vnd.jupyter.widget-view+json": {
       "model_id": "5723880675cd48e58a8c59e7209953cb",
       "version_major": 2,
       "version_minor": 0
      },
      "text/plain": [
       "Writing (1280, 720)-frames\n",
       " into ../videos/output/CP/lg_test60_compress_1000/CP_lg_test60_compress_1000_ranks_…"
      ]
     },
     "metadata": {},
     "output_type": "display_data"
    },
    {
     "name": "stdout",
     "output_type": "stream",
     "text": [
      "Total:  259.56 seconds.\n",
      "Saved to ../jsons/CP_lg_test60.json\n"
     ]
    }
   ],
   "source": [
    "results_cp = dict()\n",
    "for compress_ratio in [50_000, 25_000, 10_000, 5_000, 2_500, 1_000]:\n",
    "    print(f\"===== COMPRESSION RATIO = {compress_ratio} =====\")\n",
    "    results_cp[compress_ratio] = decomposition(exp_name+f\"_compress_{compress_ratio}\", video_tensor,\n",
    "                                                        \"CP\", {\"tol\": 1e-6, \"n_iter_max\": 100, \"n_samples\": 5_000},\n",
    "                                                        desired_compress_ratio=compress_ratio,\n",
    "                                                        format_=format_,\n",
    "                                                        fps=fps,\n",
    "                                                        colorful=colorful,\n",
    "                                                        delete_prev=True)\n",
    "decomposition_results_to_json(exp_name, \"CP\", results_cp)"
   ]
  },
  {
   "cell_type": "markdown",
   "metadata": {},
   "source": [
    "## Tensorly Non-Negative Tucker"
   ]
  },
  {
   "cell_type": "code",
   "execution_count": 7,
   "metadata": {},
   "outputs": [
    {
     "data": {
      "text/plain": [
       "'\\nif (video_tensor >= 0).all():\\n    results_non_neg_tucker = dict()\\n    for compress_ratio in [1000, 500, 250, 100]:\\n        print(f\"===== COMPRESSION RATIO = {compress_ratio} =====\")\\n        results_non_neg_tucker[compress_ratio] = decomposition_tucker(exp_name+f\"_compress_{compress_ratio}\", video_tensor,\\n                                                            \"NonNegTucker\", {\"tol\": 1e-6, \"n_iter_max\": 100},\\n                                                            desired_compress_ratio=compress_ratio,\\n                                                            format_=format_,\\n                                                            fps=fps,\\n                                                            colorful=colorful,\\n                                                            delete_prev=True)\\n'"
      ]
     },
     "execution_count": 7,
     "metadata": {},
     "output_type": "execute_result"
    }
   ],
   "source": [
    "\"\"\"\n",
    "if (video_tensor >= 0).all():\n",
    "    results_non_neg_tucker = dict()\n",
    "    for compress_ratio in [1000, 500, 250, 100]:\n",
    "        print(f\"===== COMPRESSION RATIO = {compress_ratio} =====\")\n",
    "        results_non_neg_tucker[compress_ratio] = decomposition_tucker(exp_name+f\"_compress_{compress_ratio}\", video_tensor,\n",
    "                                                            \"NonNegTucker\", {\"tol\": 1e-6, \"n_iter_max\": 100},\n",
    "                                                            desired_compress_ratio=compress_ratio,\n",
    "                                                            format_=format_,\n",
    "                                                            fps=fps,\n",
    "                                                            colorful=colorful,\n",
    "                                                            delete_prev=True)\n",
    "\"\"\""
   ]
  },
  {
   "cell_type": "markdown",
   "metadata": {},
   "source": [
    "## Pyttb Tucker ALS"
   ]
  },
  {
   "cell_type": "code",
   "execution_count": 8,
   "metadata": {},
   "outputs": [
    {
     "data": {
      "text/plain": [
       "'\\nresults_tucker_ALS = dict()\\nfor compress_ratio in [2, 3, 5, 10, 25, 50]:\\n    print(f\"===== COMPRESSION RATIO = {compress_ratio} =====\")\\n    results_tucker_ALS[compress_ratio] = decomposition_tucker(exp_name+f\"_compress_{compress_ratio}\", video_tensor, \"TuckerALS\", {\"tol\": 1e-3},\\n                                                desired_compress_ratio=compress_ratio,\\n                                                format_=format_,\\n                                                fps=fps,\\n                                                colorful=colorful,\\n                                                delete_prev=True)\\n\\ndecomposition_results_to_json(exp_name, \"TuckerALS\", results_tucker_ALS)\\n'"
      ]
     },
     "execution_count": 8,
     "metadata": {},
     "output_type": "execute_result"
    }
   ],
   "source": [
    "\"\"\"\n",
    "results_tucker_ALS = dict()\n",
    "for compress_ratio in [2, 3, 5, 10, 25, 50]:\n",
    "    print(f\"===== COMPRESSION RATIO = {compress_ratio} =====\")\n",
    "    results_tucker_ALS[compress_ratio] = decomposition_tucker(exp_name+f\"_compress_{compress_ratio}\", video_tensor, \"TuckerALS\", {\"tol\": 1e-3},\n",
    "                                                desired_compress_ratio=compress_ratio,\n",
    "                                                format_=format_,\n",
    "                                                fps=fps,\n",
    "                                                colorful=colorful,\n",
    "                                                delete_prev=True)\n",
    "\n",
    "decomposition_results_to_json(exp_name, \"TuckerALS\", results_tucker_ALS)\n",
    "\"\"\""
   ]
  },
  {
   "cell_type": "markdown",
   "metadata": {},
   "source": [
    "## Pyttb HOSVD"
   ]
  },
  {
   "cell_type": "code",
   "execution_count": 9,
   "metadata": {},
   "outputs": [
    {
     "name": "stdout",
     "output_type": "stream",
     "text": [
      "===== COMPRESSION RATIO = 50000 =====\n",
      "Removed previous results from ../videos/output/HOSVD/lg_test60_compress_50000!!!\n",
      "Suggested ranks for desired compression ratio 50000 is [1, 1, 1, 2], exact comression ratio is  80216.634\n",
      "HOSVD took  41.35 seconds.\n",
      "Converged in 1 iterations with relative error of  0.288\n"
     ]
    },
    {
     "data": {
      "application/vnd.jupyter.widget-view+json": {
       "model_id": "1354f6a1ea99403ea334545535938460",
       "version_major": 2,
       "version_minor": 0
      },
      "text/plain": [
       "Writing (1280, 720)-frames\n",
       " into ../videos/output/HOSVD/lg_test60_compress_50000/HOSVD_lg_test60_compress_5000…"
      ]
     },
     "metadata": {},
     "output_type": "display_data"
    },
    {
     "name": "stdout",
     "output_type": "stream",
     "text": [
      "Total:  50.92 seconds.\n",
      "===== COMPRESSION RATIO = 25000 =====\n",
      "Removed previous results from ../videos/output/HOSVD/lg_test60_compress_25000!!!\n",
      "Suggested ranks for desired compression ratio 25000 is [2, 3, 3, 3], exact comression ratio is  26829.694\n",
      "HOSVD took  41.40 seconds.\n",
      "Converged in 1 iterations with relative error of  0.166\n"
     ]
    },
    {
     "data": {
      "application/vnd.jupyter.widget-view+json": {
       "model_id": "ab0b774de3af4102823b7a0968aaa685",
       "version_major": 2,
       "version_minor": 0
      },
      "text/plain": [
       "Writing (1280, 720)-frames\n",
       " into ../videos/output/HOSVD/lg_test60_compress_25000/HOSVD_lg_test60_compress_2500…"
      ]
     },
     "metadata": {},
     "output_type": "display_data"
    },
    {
     "name": "stdout",
     "output_type": "stream",
     "text": [
      "Total:  50.83 seconds.\n",
      "===== COMPRESSION RATIO = 10000 =====\n",
      "Removed previous results from ../videos/output/HOSVD/lg_test60_compress_10000!!!\n",
      "Suggested ranks for desired compression ratio 10000 is [2, 8, 8, 3], exact comression ratio is  10045.903\n",
      "HOSVD took  40.94 seconds.\n",
      "Converged in 1 iterations with relative error of  0.094\n"
     ]
    },
    {
     "data": {
      "application/vnd.jupyter.widget-view+json": {
       "model_id": "c8ee85cf1ae046899eba8fd670e19cac",
       "version_major": 2,
       "version_minor": 0
      },
      "text/plain": [
       "Writing (1280, 720)-frames\n",
       " into ../videos/output/HOSVD/lg_test60_compress_10000/HOSVD_lg_test60_compress_1000…"
      ]
     },
     "metadata": {},
     "output_type": "display_data"
    },
    {
     "name": "stdout",
     "output_type": "stream",
     "text": [
      "Total:  50.28 seconds.\n",
      "===== COMPRESSION RATIO = 5000 =====\n",
      "Removed previous results from ../videos/output/HOSVD/lg_test60_compress_5000!!!\n",
      "Suggested ranks for desired compression ratio 5000 is [3, 15, 15, 3], exact comression ratio is  5149.562\n",
      "HOSVD took  41.06 seconds.\n",
      "Converged in 1 iterations with relative error of  0.054\n"
     ]
    },
    {
     "data": {
      "application/vnd.jupyter.widget-view+json": {
       "model_id": "016959d93e894303bc7688ae77cdceaf",
       "version_major": 2,
       "version_minor": 0
      },
      "text/plain": [
       "Writing (1280, 720)-frames\n",
       " into ../videos/output/HOSVD/lg_test60_compress_5000/HOSVD_lg_test60_compress_5000_…"
      ]
     },
     "metadata": {},
     "output_type": "display_data"
    },
    {
     "name": "stdout",
     "output_type": "stream",
     "text": [
      "Total:  50.65 seconds.\n",
      "===== COMPRESSION RATIO = 2500 =====\n",
      "Removed previous results from ../videos/output/HOSVD/lg_test60_compress_2500!!!\n",
      "Suggested ranks for desired compression ratio 2500 is [4, 28, 28, 3], exact comression ratio is  2526.585\n",
      "HOSVD took  41.49 seconds.\n",
      "Converged in 1 iterations with relative error of  0.031\n"
     ]
    },
    {
     "data": {
      "application/vnd.jupyter.widget-view+json": {
       "model_id": "56d6ac09b87e4a048cf6f74eb83b4614",
       "version_major": 2,
       "version_minor": 0
      },
      "text/plain": [
       "Writing (1280, 720)-frames\n",
       " into ../videos/output/HOSVD/lg_test60_compress_2500/HOSVD_lg_test60_compress_2500_…"
      ]
     },
     "metadata": {},
     "output_type": "display_data"
    },
    {
     "name": "stdout",
     "output_type": "stream",
     "text": [
      "Total:  51.18 seconds.\n",
      "===== COMPRESSION RATIO = 1000 =====\n",
      "Removed previous results from ../videos/output/HOSVD/lg_test60_compress_1000!!!\n",
      "Suggested ranks for desired compression ratio 1000 is [6, 55, 55, 3], exact comression ratio is  1006.486\n",
      "HOSVD took  42.00 seconds.\n",
      "Converged in 1 iterations with relative error of  0.017\n"
     ]
    },
    {
     "data": {
      "application/vnd.jupyter.widget-view+json": {
       "model_id": "746f431294ce4504a3a19747db9a761e",
       "version_major": 2,
       "version_minor": 0
      },
      "text/plain": [
       "Writing (1280, 720)-frames\n",
       " into ../videos/output/HOSVD/lg_test60_compress_1000/HOSVD_lg_test60_compress_1000_…"
      ]
     },
     "metadata": {},
     "output_type": "display_data"
    },
    {
     "name": "stdout",
     "output_type": "stream",
     "text": [
      "Total:  51.56 seconds.\n",
      "===== COMPRESSION RATIO = 500 =====\n",
      "Removed previous results from ../videos/output/HOSVD/lg_test60_compress_500!!!\n",
      "Suggested ranks for desired compression ratio 500 is [7, 86, 87, 3], exact comression ratio is  501.428\n",
      "HOSVD took  43.08 seconds.\n",
      "Converged in 1 iterations with relative error of  0.011\n"
     ]
    },
    {
     "data": {
      "application/vnd.jupyter.widget-view+json": {
       "model_id": "f4c1f5654798481ba6e4ae4abea52d48",
       "version_major": 2,
       "version_minor": 0
      },
      "text/plain": [
       "Writing (1280, 720)-frames\n",
       " into ../videos/output/HOSVD/lg_test60_compress_500/HOSVD_lg_test60_compress_500_ra…"
      ]
     },
     "metadata": {},
     "output_type": "display_data"
    },
    {
     "name": "stdout",
     "output_type": "stream",
     "text": [
      "Total:  52.56 seconds.\n",
      "===== COMPRESSION RATIO = 250 =====\n",
      "Removed previous results from ../videos/output/HOSVD/lg_test60_compress_250!!!\n",
      "Suggested ranks for desired compression ratio 250 is [9, 114, 133, 3], exact comression ratio is  250.494\n",
      "HOSVD took  43.10 seconds.\n",
      "Converged in 1 iterations with relative error of  0.008\n"
     ]
    },
    {
     "data": {
      "application/vnd.jupyter.widget-view+json": {
       "model_id": "04158740c42c4fa1a5ff4076ceff86aa",
       "version_major": 2,
       "version_minor": 0
      },
      "text/plain": [
       "Writing (1280, 720)-frames\n",
       " into ../videos/output/HOSVD/lg_test60_compress_250/HOSVD_lg_test60_compress_250_ra…"
      ]
     },
     "metadata": {},
     "output_type": "display_data"
    },
    {
     "name": "stdout",
     "output_type": "stream",
     "text": [
      "Total:  53.26 seconds.\n",
      "===== COMPRESSION RATIO = 100 =====\n",
      "Removed previous results from ../videos/output/HOSVD/lg_test60_compress_100!!!\n",
      "Suggested ranks for desired compression ratio 100 is [12, 155, 225, 3], exact comression ratio is  100.184\n",
      "HOSVD took  43.80 seconds.\n",
      "Converged in 1 iterations with relative error of  0.006\n"
     ]
    },
    {
     "data": {
      "application/vnd.jupyter.widget-view+json": {
       "model_id": "21b6565b80d9440d9bd7f2e41282a3fc",
       "version_major": 2,
       "version_minor": 0
      },
      "text/plain": [
       "Writing (1280, 720)-frames\n",
       " into ../videos/output/HOSVD/lg_test60_compress_100/HOSVD_lg_test60_compress_100_ra…"
      ]
     },
     "metadata": {},
     "output_type": "display_data"
    },
    {
     "name": "stdout",
     "output_type": "stream",
     "text": [
      "Total:  54.24 seconds.\n",
      "===== COMPRESSION RATIO = 50 =====\n",
      "Removed previous results from ../videos/output/HOSVD/lg_test60_compress_50!!!\n",
      "Suggested ranks for desired compression ratio 50 is [16, 195, 298, 3], exact comression ratio is  50.086\n",
      "HOSVD took  45.56 seconds.\n",
      "Converged in 1 iterations with relative error of  0.005\n"
     ]
    },
    {
     "data": {
      "application/vnd.jupyter.widget-view+json": {
       "model_id": "920a9aa772b44ea38b7f3849d125cc4b",
       "version_major": 2,
       "version_minor": 0
      },
      "text/plain": [
       "Writing (1280, 720)-frames\n",
       " into ../videos/output/HOSVD/lg_test60_compress_50/HOSVD_lg_test60_compress_50_rank…"
      ]
     },
     "metadata": {},
     "output_type": "display_data"
    },
    {
     "name": "stdout",
     "output_type": "stream",
     "text": [
      "Total:  56.90 seconds.\n",
      "===== COMPRESSION RATIO = 25 =====\n",
      "Removed previous results from ../videos/output/HOSVD/lg_test60_compress_25!!!\n",
      "Suggested ranks for desired compression ratio 25 is [20, 246, 402, 3], exact comression ratio is  25.034\n",
      "HOSVD took  47.92 seconds.\n",
      "Converged in 1 iterations with relative error of  0.004\n"
     ]
    },
    {
     "data": {
      "application/vnd.jupyter.widget-view+json": {
       "model_id": "fd48dea101f24b969f210a7cfd66ee30",
       "version_major": 2,
       "version_minor": 0
      },
      "text/plain": [
       "Writing (1280, 720)-frames\n",
       " into ../videos/output/HOSVD/lg_test60_compress_25/HOSVD_lg_test60_compress_25_rank…"
      ]
     },
     "metadata": {},
     "output_type": "display_data"
    },
    {
     "name": "stdout",
     "output_type": "stream",
     "text": [
      "Total:  60.13 seconds.\n",
      "===== COMPRESSION RATIO = 10 =====\n",
      "Removed previous results from ../videos/output/HOSVD/lg_test60_compress_10!!!\n",
      "Suggested ranks for desired compression ratio 10 is [27, 334, 576, 3], exact comression ratio is  10.016\n",
      "HOSVD took  51.23 seconds.\n",
      "Converged in 1 iterations with relative error of  0.002\n"
     ]
    },
    {
     "data": {
      "application/vnd.jupyter.widget-view+json": {
       "model_id": "a20acedf693f488dba0f7c47e288b9e8",
       "version_major": 2,
       "version_minor": 0
      },
      "text/plain": [
       "Writing (1280, 720)-frames\n",
       " into ../videos/output/HOSVD/lg_test60_compress_10/HOSVD_lg_test60_compress_10_rank…"
      ]
     },
     "metadata": {},
     "output_type": "display_data"
    },
    {
     "name": "stdout",
     "output_type": "stream",
     "text": [
      "Total:  64.74 seconds.\n",
      "===== COMPRESSION RATIO = 5 =====\n",
      "Removed previous results from ../videos/output/HOSVD/lg_test60_compress_5!!!\n",
      "Suggested ranks for desired compression ratio 5 is [35, 421, 722, 3], exact comression ratio is  5.005\n",
      "HOSVD took  56.67 seconds.\n",
      "Converged in 1 iterations with relative error of  0.002\n"
     ]
    },
    {
     "data": {
      "application/vnd.jupyter.widget-view+json": {
       "model_id": "a532289ede424643ba6776430a7431f4",
       "version_major": 2,
       "version_minor": 0
      },
      "text/plain": [
       "Writing (1280, 720)-frames\n",
       " into ../videos/output/HOSVD/lg_test60_compress_5/HOSVD_lg_test60_compress_5_ranks_…"
      ]
     },
     "metadata": {},
     "output_type": "display_data"
    },
    {
     "name": "stdout",
     "output_type": "stream",
     "text": [
      "Total:  71.36 seconds.\n",
      "===== COMPRESSION RATIO = 3 =====\n",
      "Removed previous results from ../videos/output/HOSVD/lg_test60_compress_3!!!\n",
      "Suggested ranks for desired compression ratio 3 is [41, 499, 876, 3], exact comression ratio is  3.003\n",
      "HOSVD took  62.31 seconds.\n",
      "Converged in 1 iterations with relative error of  0.001\n"
     ]
    },
    {
     "data": {
      "application/vnd.jupyter.widget-view+json": {
       "model_id": "2c34670246f64e8b9eb1b2b615a17e40",
       "version_major": 2,
       "version_minor": 0
      },
      "text/plain": [
       "Writing (1280, 720)-frames\n",
       " into ../videos/output/HOSVD/lg_test60_compress_3/HOSVD_lg_test60_compress_3_ranks_…"
      ]
     },
     "metadata": {},
     "output_type": "display_data"
    },
    {
     "name": "stdout",
     "output_type": "stream",
     "text": [
      "Total:  78.35 seconds.\n",
      "Saved to ../jsons/HOSVD_lg_test60.json\n"
     ]
    }
   ],
   "source": [
    "results_hosvd = dict()\n",
    "for compress_ratio in [50_000, 25_000, 10_000, 5_000, 2_500, 1_000, 500, 250, 100, 50, 25, 10, 5, 3]:\n",
    "    print(f\"===== COMPRESSION RATIO = {compress_ratio} =====\")\n",
    "    results_hosvd[compress_ratio] = decomposition(exp_name+f\"_compress_{compress_ratio}\", video_tensor, \"HOSVD\", {\"tol\": 1e-6},\n",
    "                                                desired_compress_ratio=compress_ratio,\n",
    "                                                format_=format_,\n",
    "                                                fps=fps,\n",
    "                                                colorful=colorful,\n",
    "                                                delete_prev=True)\n",
    "    \n",
    "decomposition_results_to_json(exp_name, \"HOSVD\", results_hosvd)"
   ]
  },
  {
   "cell_type": "markdown",
   "metadata": {},
   "source": [
    "# Time and Error Analysis"
   ]
  },
  {
   "cell_type": "code",
   "execution_count": 11,
   "metadata": {},
   "outputs": [
    {
     "data": {
      "image/png": "[encoded data removed]",
      "text/plain": [
       "<Figure size 1600x1800 with 3 Axes>"
      ]
     },
     "metadata": {},
     "output_type": "display_data"
    }
   ],
   "source": [
    "all_results = dict()\n",
    "\n",
    "for method in ['RSVD', 'Tucker', 'CP', 'HOSVD']:\n",
    "    with open(f\"../jsons/{method}_{exp_name}.json\", \"r\") as openfile:\n",
    "        all_results[method] = json.load(openfile)\n",
    "        \n",
    "error_time_analysis(exp_name, video_tensor, all_results)"
   ]
  },
  {
   "cell_type": "code",
   "execution_count": null,
   "metadata": {},
   "outputs": [],
   "source": []
  }
 ],
 "metadata": {
  "kernelspec": {
   "display_name": "Python 3 (ipykernel)",
   "language": "python",
   "name": "python3"
  },
  "language_info": {
   "codemirror_mode": {
    "name": "ipython",
    "version": 3
   },
   "file_extension": ".py",
   "mimetype": "text/x-python",
   "name": "python",
   "nbconvert_exporter": "python",
   "pygments_lexer": "ipython3",
   "version": "3.11.2"
  }
 },
 "nbformat": 4,
 "nbformat_minor": 4
}
